{
 "metadata": {
  "language_info": {
   "codemirror_mode": {
    "name": "ipython",
    "version": 3
   },
   "file_extension": ".py",
   "mimetype": "text/x-python",
   "name": "python",
   "nbconvert_exporter": "python",
   "pygments_lexer": "ipython3",
   "version": "3.8.5-final"
  },
  "orig_nbformat": 2,
  "kernelspec": {
   "name": "python3",
   "display_name": "Python 3",
   "language": "python"
  }
 },
 "nbformat": 4,
 "nbformat_minor": 2,
 "cells": [
  {
   "source": [
    "# Sentiment analysis of tweets\n",
    "\n",
    "Things to do:\n",
    "- import all tweets as df (using existing methods)"
   ],
   "cell_type": "markdown",
   "metadata": {}
  },
  {
   "cell_type": "code",
   "execution_count": 21,
   "metadata": {},
   "outputs": [],
   "source": [
    "import pandas as pd\n",
    "import os\n",
    "import sys\n",
    "import time"
   ]
  },
  {
   "cell_type": "code",
   "execution_count": 22,
   "metadata": {},
   "outputs": [
    {
     "output_type": "stream",
     "name": "stdout",
     "text": [
      "/home/jabba/Desktop/Final-Project-Cryptocurrency-ML/tweet_csv_processing\n"
     ]
    }
   ],
   "source": [
    "\n",
    "parent_folder = os.path.abspath(os.path.join('..'))\n",
    "csv_methods_folder = os.path.join(os.path.dirname(parent_folder), \"tweet_csv_processing\")\n",
    "sys.path.append(csv_methods_folder)\n",
    "print(csv_methods_folder)\n"
   ]
  },
  {
   "cell_type": "code",
   "execution_count": 23,
   "metadata": {},
   "outputs": [],
   "source": [
    "import tweepy_csv_process as csv_process"
   ]
  },
  {
   "cell_type": "code",
   "execution_count": 24,
   "metadata": {},
   "outputs": [],
   "source": [
    "csv_master_folder = os.path.join(os.path.dirname(parent_folder), \"tweet-csv-cleaned\")\n",
    "test_day_folder = os.path.join(csv_master_folder, \"2021-03-01\")\n",
    "test_file = os.path.join(test_day_folder, \"2021-03-01-bitcoin-tweets.csv\")"
   ]
  },
  {
   "cell_type": "code",
   "execution_count": 25,
   "metadata": {},
   "outputs": [
    {
     "output_type": "stream",
     "name": "stdout",
     "text": [
      "                                  id_str  \\\ncreated_at                                 \n2021-03-01 00:00:00  1366176355713495041   \n2021-03-01 00:00:00  1366176356732649480   \n2021-03-01 00:00:01  1366176361694572544   \n2021-03-01 00:00:01  1366176359664517121   \n2021-03-01 00:00:01  1366176361757474816   \n...                                  ...   \n2021-03-01 23:59:51  1366538705750552579   \n2021-03-01 23:59:52  1366538712507703299   \n2021-03-01 23:59:52  1366538709529726977   \n2021-03-01 23:59:52  1366538709961564163   \n2021-03-01 23:59:55  1366538725182824454   \n\n                                                from_user  \\\ncreated_at                                                  \n2021-03-01 00:00:00                             Bitcoin 🤖   \n2021-03-01 00:00:00                     Bitcoin Life Club   \n2021-03-01 00:00:01    ₿itcoin ₿elly ₿utton ⚡️ 🔴🔴,🔴🔴🔴,🔴🔴🟠   \n2021-03-01 00:00:01  Educación Financiera y Criptomonedas   \n2021-03-01 00:00:01                             The First   \n...                                                   ...   \n2021-03-01 23:59:51                      CryptoElite v2.9   \n2021-03-01 23:59:52                      Crypto Watch Bot   \n2021-03-01 23:59:52                      Crypto Watch Bot   \n2021-03-01 23:59:52                                 디오니소스   \n2021-03-01 23:59:55                        mahdi sharkawe   \n\n                                                                  text  \\\ncreated_at                                                               \n2021-03-01 00:00:00                                $45,113.92 #bitcoin   \n2021-03-01 00:00:00  Different stages of Money Evolution🙂! Read abo...   \n2021-03-01 00:00:01  The price of Spaghetti alla Carbonara is 24,29...   \n2021-03-01 00:00:01  #MachineLearning aplicado a los juegos de azar...   \n2021-03-01 00:00:01  You've heard of @Bitcoin &amp; #cryptocurrency...   \n...                                                                ...   \n2021-03-01 23:59:51  My Bitcoin meme art  #art #bitcoin #meme  http...   \n2021-03-01 23:59:52  #Investing 141.1% in this optimal #crypto port...   \n2021-03-01 23:59:52  Best #cryptocurrency risk-adjusted returns in ...   \n2021-03-01 23:59:52  출근해야해서 꿀꿀한데 금융치료해줘 빝코야🤩 #Bitcoin 🚀🚀🚀 https://t...   \n2021-03-01 23:59:55                        #BTC braking out right now!   \n\n                             created_at geo_coordinates user_lang  \\\ncreated_at                                                          \n2021-03-01 00:00:00 2021-03-01 00:00:00             NaN       und   \n2021-03-01 00:00:00 2021-03-01 00:00:00             NaN        en   \n2021-03-01 00:00:01 2021-03-01 00:00:01             NaN        en   \n2021-03-01 00:00:01 2021-03-01 00:00:01             NaN        es   \n2021-03-01 00:00:01 2021-03-01 00:00:01             NaN        en   \n...                                 ...             ...       ...   \n2021-03-01 23:59:51 2021-03-01 23:59:51             NaN        en   \n2021-03-01 23:59:52 2021-03-01 23:59:52             NaN        en   \n2021-03-01 23:59:52 2021-03-01 23:59:52             NaN        en   \n2021-03-01 23:59:52 2021-03-01 23:59:52             NaN        ko   \n2021-03-01 23:59:55 2021-03-01 23:59:55             NaN        en   \n\n                        from_user_id_str in_reply_to_status_id_str  \\\ncreated_at                                                           \n2021-03-01 00:00:00  1351915739524042753                      None   \n2021-03-01 00:00:00  1358477513572442113                      None   \n2021-03-01 00:00:01  1016134430732308481                      None   \n2021-03-01 00:00:01   753964404744523776                      None   \n2021-03-01 00:00:01  1182332284403376128                      None   \n...                                  ...                       ...   \n2021-03-01 23:59:51   803159947538206720                      None   \n2021-03-01 23:59:52   955234754462445568                      None   \n2021-03-01 23:59:52   955234754462445568                      None   \n2021-03-01 23:59:52  1127402320432517120                      None   \n2021-03-01 23:59:55  1357309017228509185                      None   \n\n                     user_followers_count user_location  \\\ncreated_at                                                \n2021-03-01 00:00:00                     6           NaN   \n2021-03-01 00:00:00                   345           NaN   \n2021-03-01 00:00:01                   280         Earth   \n2021-03-01 00:00:01                  2864           NaN   \n2021-03-01 00:00:01                 49313           NaN   \n...                                   ...           ...   \n2021-03-01 23:59:51                 23944           NaN   \n2021-03-01 23:59:52                  1640  New York, NY   \n2021-03-01 23:59:52                  1640  New York, NY   \n2021-03-01 23:59:52                   481           NaN   \n2021-03-01 23:59:55                     1           NaN   \n\n                                                              hashtags  \ncreated_at                                                              \n2021-03-01 00:00:00                                           #bitcoin  \n2021-03-01 00:00:00  #Bitcoin#BitcoinCash#BTC#BitcoinSV#cryptocurre...  \n2021-03-01 00:00:01                            #bitcoin#CarbonaraIndex  \n2021-03-01 00:00:01  #MachineLearning#ruletaonline#Ruleta#roulette#...  \n2021-03-01 00:00:01                     #cryptocurrency#Bitcoin#crypto  \n...                                                                ...  \n2021-03-01 23:59:51                                  #art#bitcoin#meme  \n2021-03-01 23:59:52                #Investing#crypto#cash#Bitcoin#risk  \n2021-03-01 23:59:52                #cryptocurrency#LEO#Bitcoin#VeChain  \n2021-03-01 23:59:52                                           #Bitcoin  \n2021-03-01 23:59:55                                               #BTC  \n\n[41876 rows x 11 columns]\n"
     ]
    }
   ],
   "source": [
    "df = csv_process.dataframe_from_tweet_csv(test_file, \"created_at\")\n",
    "print(df)"
   ]
  },
  {
   "cell_type": "code",
   "execution_count": 26,
   "metadata": {},
   "outputs": [
    {
     "output_type": "stream",
     "name": "stdout",
     "text": [
      "Index(['id_str', 'from_user', 'text', 'created_at', 'geo_coordinates',\n       'user_lang', 'from_user_id_str', 'in_reply_to_status_id_str',\n       'user_followers_count', 'user_location', 'hashtags'],\n      dtype='object')\n"
     ]
    }
   ],
   "source": [
    "print(df.columns)"
   ]
  },
  {
   "cell_type": "code",
   "execution_count": 27,
   "metadata": {},
   "outputs": [],
   "source": [
    "# So filter for 'en' tweets, remove links, hashtags, and non-english charecters\n",
    "df_en_only = df.loc[df[\"user_lang\"] == 'en']"
   ]
  },
  {
   "cell_type": "code",
   "execution_count": 28,
   "metadata": {},
   "outputs": [],
   "source": [
    "df_en_only = df_en_only[\"text\"]"
   ]
  },
  {
   "cell_type": "code",
   "execution_count": 29,
   "metadata": {},
   "outputs": [],
   "source": [
    "df_en_only = df_en_only.drop_duplicates() "
   ]
  },
  {
   "cell_type": "code",
   "execution_count": 39,
   "metadata": {},
   "outputs": [
    {
     "output_type": "stream",
     "name": "stdout",
     "text": [
      "30257\ntweet no. 21884\nBig day for the other AQSE #Blockchain #Bitcoin sock today up 19% for ⁦@KR1plc⁩ #KR1.  It won’t be long before the other AQSE stock Upper Thames follows. It’s changing its name today to Valereum Blockchain ⁦@ValereumBlkchn⁩ #UPPT ⁦@RPoulden⁩ ⁦@zakmir⁩ https://t.co/zFNWtB92Au\nBig day for the other AQSE Blockchain Bitcoin sock today up 19 for KR1plc KR1 It won t be long before the other AQSE stock Upper Thames follows It s changing its name today to Valereum Blockchain ValereumBlkchn UPPT RPoulden zakmir https t co zFNWtB92Au\n"
     ]
    }
   ],
   "source": [
    "import random\n",
    "import re\n",
    "\n",
    "df_len = len(df_en_only.index)\n",
    "print(df_len)\n",
    "random = random.randint(0, df_len)\n",
    "print(f\"tweet no. {random}\")\n",
    "random_tweet_text = df_en_only[random]\n",
    "print(random_tweet_text)\n",
    "# remove links\n",
    "\n",
    "#remove mentions\n",
    "\n",
    "# this a regular expression which filters out non alpha-numeric chars\n",
    "print(re.sub(r'\\W+', ' ', df_en_only[random]))"
   ]
  },
  {
   "cell_type": "code",
   "execution_count": 42,
   "metadata": {},
   "outputs": [
    {
     "output_type": "stream",
     "name": "stdout",
     "text": [
      "['Big', 'day', 'for', 'the', 'other', 'AQSE', '#Blockchain', '#Bitcoin', 'sock', 'today', 'up', '19%', 'for', '\\u2066@KR1plc\\u2069', '#KR1.', '', 'It', 'won’t', 'be', 'long', 'before', 'the', 'other', 'AQSE', 'stock', 'Upper', 'Thames', 'follows.', 'It’s', 'changing', 'its', 'name', 'today', 'to', 'Valereum', 'Blockchain', '\\u2066@ValereumBlkchn\\u2069', '#UPPT', '\\u2066@RPoulden\\u2069', '\\u2066@zakmir\\u2069', 'https://t.co/zFNWtB92Au']\n"
     ]
    }
   ],
   "source": [
    "split_tweet = random_tweet_text.split(' ')\n",
    "print(split_tweet)"
   ]
  }
 ]
}